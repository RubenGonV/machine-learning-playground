{
 "cells": [
  {
   "cell_type": "markdown",
   "id": "94ebe9b7",
   "metadata": {},
   "source": [
    "# Proyecto 1: Regresión Lineal"
   ]
  },
  {
   "cell_type": "markdown",
   "id": "513af8cf",
   "metadata": {},
   "source": [
    "> Recursos:\n",
    "> - https://developers.google.com/machine-learning/crash-course/linear-regression?hl=es-419\n",
    "---"
   ]
  },
  {
   "cell_type": "markdown",
   "id": "61e7c2cc",
   "metadata": {},
   "source": [
    "La regresión lineal es una **técnica estadística** que se usa para encontrar la relación entre las variables.\n",
    "\n",
    "En el contexto del AA, la regresión lineal encuentra la relación entre los atributos y una etiqueta.\n",
    "\n",
    "## Ecuación de regresión lineal\n",
    "En términos algebraicos, el modelo se definiría como $y = mx + b$, donde\n",
    "- $y$ son las millas por galón, el valor que queremos predecir.\n",
    "- $m$ es la pendiente de la recta.\n",
    "- $x$ son libras, nuestro valor de entrada.\n",
    "- $b$ es la intersección en Y.\n",
    "\n",
    "En AA, escribimos la ecuación para un modelo de regresión lineal de la siguiente manera: $y' = b + w_1x_1$\n",
    "\n"
   ]
  },
  {
   "cell_type": "markdown",
   "id": "61148600",
   "metadata": {},
   "source": [
    "> ### Generación del dataset\n",
    "> 100 puntos 2D generados artificialmente: $y=3x+2+\\text{ruido}$"
   ]
  },
  {
   "cell_type": "code",
   "execution_count": null,
   "id": "e372a3d9",
   "metadata": {},
   "outputs": [],
   "source": [
    "import numpy as np\n",
    "import pandas as pd\n",
    "\n",
    "# Semilla para reproducibilidad\n",
    "np.random.seed(42)\n",
    "\n",
    "# Generamos 100 puntos entre -10 y 10\n",
    "x = np.linspace(-10, 10, 100)\n",
    "\n",
    "# Definimos la relación lineal con algo de ruido gaussiano\n",
    "y = 3 * x + 2 + np.random.normal(0, 3, size=x.shape)\n",
    "\n",
    "# Creamos el DataFrame\n",
    "data = pd.DataFrame({'x': x, 'y': y})\n",
    "\n",
    "# Guardamos a CSV\n",
    "data.to_csv('dataset_regresion_lineal.csv', index=False)\n",
    "\n",
    "print(data.head())\n"
   ]
  }
 ],
 "metadata": {
  "kernelspec": {
   "display_name": ".venv",
   "language": "python",
   "name": "python3"
  },
  "language_info": {
   "codemirror_mode": {
    "name": "ipython",
    "version": 3
   },
   "file_extension": ".py",
   "mimetype": "text/x-python",
   "name": "python",
   "nbconvert_exporter": "python",
   "pygments_lexer": "ipython3",
   "version": "3.13.3"
  }
 },
 "nbformat": 4,
 "nbformat_minor": 5
}
